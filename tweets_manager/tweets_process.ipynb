{
 "cells": [
  {
   "cell_type": "code",
   "execution_count": 1,
   "metadata": {
    "collapsed": true,
    "ExecuteTime": {
     "end_time": "2023-05-12T15:56:33.119164295Z",
     "start_time": "2023-05-12T15:56:32.268972426Z"
    }
   },
   "outputs": [],
   "source": [
    "import pandas as pd\n",
    "import os"
   ]
  },
  {
   "cell_type": "markdown",
   "source": [
    "# Import data"
   ],
   "metadata": {
    "collapsed": false
   }
  },
  {
   "cell_type": "code",
   "execution_count": 19,
   "outputs": [
    {
     "name": "stdout",
     "output_type": "stream",
     "text": [
      "../tweets_storage/data/tweets.json\n"
     ]
    }
   ],
   "source": [
    "TWEETS_PATH = os.getenv('POETRY_TWEETSMODELING_PROJECT_ROOT_PATH', '../tweets_storage/data')\n",
    "file_name = f'{TWEETS_PATH}/tweets.json'\n",
    "print(file_name)"
   ],
   "metadata": {
    "collapsed": false,
    "ExecuteTime": {
     "end_time": "2023-05-12T16:14:51.565920349Z",
     "start_time": "2023-05-12T16:14:51.560107236Z"
    }
   }
  },
  {
   "cell_type": "code",
   "execution_count": 20,
   "outputs": [
    {
     "data": {
      "text/plain": "                                                  0    \n0  {'id': 1657010912606277634, 'text': 'Por que l...  \\\n1  {'id': 1657054701152600067, 'text': '@SiXFranc...   \n2  {'id': 1657054717929746435, 'text': '@IdoloPas...   \n3  {'id': 1657054726318608384, 'text': 'RT @tacch...   \n4  {'id': 1657054734702788610, 'text': '@AugustFa...   \n\n                                                  1    \n0  {'id': 1657010912606187520, 'text': 'RT @leome...  \\\n1  {'id': 1657054701144137728, 'text': '@CentralC...   \n2  {'id': 1657054717908746243, 'text': 'Mi tía se...   \n3  {'id': 1657054726318424066, 'text': '@ErlinJim...   \n4  {'id': 1657054734698663937, 'text': 'RT @antic...   \n\n                                                  2    \n0  {'id': 1657010912602226688, 'text': 'RT @jinji...  \\\n1  {'id': 1657054701136015360, 'text': 'RT @Amira...   \n2  {'id': 1657054717879435264, 'text': 'Pernod Ri...   \n3  {'id': 1657054726297382914, 'text': 'RT @Paulo...   \n4  {'id': 1657054734677581824, 'text': 'RT @Fabio...   \n\n                                                  3    \n0  {'id': 1657010912585236482, 'text': 'RT @mirte...  \\\n1  {'id': 1657054701110607872, 'text': 'RT @tcaba...   \n2  {'id': 1657054717879414789, 'text': '@SeanLOra...   \n3  {'id': 1657054726242947078, 'text': '@sevilayy...   \n4  {'id': 1657054734665039874, 'text': 'Eragny pa...   \n\n                                                  4    \n0  {'id': 1657010912585211912, 'text': 'RT @Mi_Ra...  \\\n1  {'id': 1657054701106462720, 'text': 'RT @CAR_C...   \n2  {'id': 1657054717879410689, 'text': '@AngeloLu...   \n3  {'id': 1657054726188326912, 'text': 'RT @alrc0...   \n4  {'id': 1657054734665015296, 'text': 'RT @Ed_co...   \n\n                                                  5    \n0  {'id': 1657010912585195526, 'text': 'RT @c_ahm...  \\\n1  {'id': 1657054701102284800, 'text': 'RT @ensus...   \n2  {'id': 1657054717866913795, 'text': 'Fitness i...   \n3  {'id': 1657054726175825921, 'text': 'RT @Prefe...   \n4  {'id': 1657054734623072259, 'text': 'RT @LucyF...   \n\n                                                  6    \n0  {'id': 1657010912568528896, 'text': 'RT @mmtts...  \\\n1  {'id': 1657054701097984000, 'text': '@alberrdd...   \n2  {'id': 1657054717866852352, 'text': 'Kürtlerin...   \n3  {'id': 1657054726154854406, 'text': 'AOZE fash...   \n4  {'id': 1657054734610575364, 'text': '@IswudKli...   \n\n                                                  7    \n0  {'id': 1657010912564326402, 'text': 'Stand on ...  \\\n1  {'id': 1657054701077053443, 'text': '#EnVivo |...   \n2  {'id': 1657054717854220290, 'text': 'RT @ibsal...   \n3  {'id': 1657054726125506560, 'text': 'RT @Vadod...   \n4  {'id': 1657054734606319621, 'text': 'RT @nital...   \n\n                                                  8    \n0  {'id': 1657010912530661376, 'text': 'RT @Victo...  \\\n1  {'id': 1657054701072838658, 'text': 'RT @purzi...   \n2  {'id': 1657054717816741888, 'text': 'RT @wonwo...   \n3  {'id': 1657054726096138241, 'text': 'RT @sferr...   \n4  {'id': 1657054734585409536, 'text': '@Buenoyqu...   \n\n                                                  9   ...   \n0  {'id': 1657010912505769984, 'text': 'RT @panan...  ...  \\\n1  {'id': 1657054701064540164, 'text': 'RT @Media...  ...   \n2  {'id': 1657054717791412224, 'text': 'Eu sou tã...  ...   \n3  {'id': 1657054726066675713, 'text': '@gonzalow...  ...   \n4  {'id': 1657054734585397251, 'text': '@jtmryuji...  ...   \n\n                                                  90   \n0  {'id': 1657010911557582848, 'text': 'RT @Claud...  \\\n1  {'id': 1657054700175511552, 'text': 'RT @MetaM...   \n2  {'id': 1657054716747034624, 'text': 'RT @sweet...   \n3  {'id': 1657054725102239746, 'text': 'RT @Aroue...   \n4  {'id': 1657054733368950790, 'text': 'RT @Danje...   \n\n                                                  91   \n0  {'id': 1657010911524126723, 'text': '@Reiss__i...  \\\n1  {'id': 1657054700175347712, 'text': '@justmeda...   \n2  {'id': 1657054716730171398, 'text': 'RT @korea...   \n3  {'id': 1657054725089419264, 'text': 'RT @youfa...   \n4  {'id': 1657054733339856896, 'text': 'hll  t o ...   \n\n                                                  92   \n0  {'id': 1657010911482200064, 'text': 'Quiero de...  \\\n1  {'id': 1657054700175278081, 'text': 'RT @alexa...   \n2  {'id': 1657054716705079299, 'text': '@Baghead_...   \n3  {'id': 1657054725089402881, 'text': '@_deucks ...   \n4  {'id': 1657054733335445507, 'text': '@cardosoe...   \n\n                                                  93   \n0  {'id': 1657010911456919553, 'text': 'RT @h3rv3...  \\\n1  {'id': 1657054700171149317, 'text': 'RT @Quiro...   \n2  {'id': 1657054716705005568, 'text': '!!Thread!...   \n3  {'id': 1657054725085249536, 'text': 'RT @amand...   \n4  {'id': 1657054733310341124, 'text': '@ponteved...   \n\n                                                  94   \n0  {'id': 1657010911453003777, 'text': 'RT @gunda...  \\\n1  {'id': 1657054700116508672, 'text': 'RT @julie...   \n2  {'id': 1657054716700905474, 'text': 'namoro nã...   \n3  {'id': 1657054725081030661, 'text': 'RT @feyza...   \n4  {'id': 1657054733301948417, 'text': 'RT @Unive...   \n\n                                                  95   \n0  {'id': 1657010911452733448, 'text': 'RT @Rico_...  \\\n1  {'id': 1657054700108226564, 'text': 'RT @clave...   \n2  {'id': 1657054716688314368, 'text': 'RT @Sapal...   \n3  {'id': 1657054725076836353, 'text': 'RT @seokm...   \n4  {'id': 1657054733243150338, 'text': 'RT @cuddl...   \n\n                                                  96   \n0  {'id': 1657010911444336641, 'text': 'RT @fumon...  \\\n1  {'id': 1657054700099739648, 'text': '@picantic...   \n2  {'id': 1657054716688232448, 'text': 'RT @jilli...   \n3  {'id': 1657054725072642055, 'text': '@e_l_g_c_...   \n4  {'id': 1657054733239205889, 'text': '@Madelynd...   \n\n                                                  97   \n0  {'id': 1657010911440429058, 'text': '@yirmiucd...  \\\n1  {'id': 1657054700074856448, 'text': 'RT @plane...   \n2  {'id': 1657054716625289219, 'text': '@random_p...   \n3                                               None   \n4  {'id': 1657054733234851840, 'text': 'RT @Mashw...   \n\n                                                  98   \n0  {'id': 1657010911435976705, 'text': 'RT @Selva...  \\\n1  {'id': 1657054700057903104, 'text': '@ManuelaC...   \n2  {'id': 1657054716591849475, 'text': 'RT @Adria...   \n3                                               None   \n4  {'id': 1657054733222260737, 'text': 'RT @_Prov...   \n\n                                                  99  \n0  {'id': 1657010911394004995, 'text': '@Diabolic...  \n1                                               None  \n2  {'id': 1657054716583354369, 'text': 'RT @quefl...  \n3                                               None  \n4                                               None  \n\n[5 rows x 100 columns]",
      "text/html": "<div>\n<style scoped>\n    .dataframe tbody tr th:only-of-type {\n        vertical-align: middle;\n    }\n\n    .dataframe tbody tr th {\n        vertical-align: top;\n    }\n\n    .dataframe thead th {\n        text-align: right;\n    }\n</style>\n<table border=\"1\" class=\"dataframe\">\n  <thead>\n    <tr style=\"text-align: right;\">\n      <th></th>\n      <th>0</th>\n      <th>1</th>\n      <th>2</th>\n      <th>3</th>\n      <th>4</th>\n      <th>5</th>\n      <th>6</th>\n      <th>7</th>\n      <th>8</th>\n      <th>9</th>\n      <th>...</th>\n      <th>90</th>\n      <th>91</th>\n      <th>92</th>\n      <th>93</th>\n      <th>94</th>\n      <th>95</th>\n      <th>96</th>\n      <th>97</th>\n      <th>98</th>\n      <th>99</th>\n    </tr>\n  </thead>\n  <tbody>\n    <tr>\n      <th>0</th>\n      <td>{'id': 1657010912606277634, 'text': 'Por que l...</td>\n      <td>{'id': 1657010912606187520, 'text': 'RT @leome...</td>\n      <td>{'id': 1657010912602226688, 'text': 'RT @jinji...</td>\n      <td>{'id': 1657010912585236482, 'text': 'RT @mirte...</td>\n      <td>{'id': 1657010912585211912, 'text': 'RT @Mi_Ra...</td>\n      <td>{'id': 1657010912585195526, 'text': 'RT @c_ahm...</td>\n      <td>{'id': 1657010912568528896, 'text': 'RT @mmtts...</td>\n      <td>{'id': 1657010912564326402, 'text': 'Stand on ...</td>\n      <td>{'id': 1657010912530661376, 'text': 'RT @Victo...</td>\n      <td>{'id': 1657010912505769984, 'text': 'RT @panan...</td>\n      <td>...</td>\n      <td>{'id': 1657010911557582848, 'text': 'RT @Claud...</td>\n      <td>{'id': 1657010911524126723, 'text': '@Reiss__i...</td>\n      <td>{'id': 1657010911482200064, 'text': 'Quiero de...</td>\n      <td>{'id': 1657010911456919553, 'text': 'RT @h3rv3...</td>\n      <td>{'id': 1657010911453003777, 'text': 'RT @gunda...</td>\n      <td>{'id': 1657010911452733448, 'text': 'RT @Rico_...</td>\n      <td>{'id': 1657010911444336641, 'text': 'RT @fumon...</td>\n      <td>{'id': 1657010911440429058, 'text': '@yirmiucd...</td>\n      <td>{'id': 1657010911435976705, 'text': 'RT @Selva...</td>\n      <td>{'id': 1657010911394004995, 'text': '@Diabolic...</td>\n    </tr>\n    <tr>\n      <th>1</th>\n      <td>{'id': 1657054701152600067, 'text': '@SiXFranc...</td>\n      <td>{'id': 1657054701144137728, 'text': '@CentralC...</td>\n      <td>{'id': 1657054701136015360, 'text': 'RT @Amira...</td>\n      <td>{'id': 1657054701110607872, 'text': 'RT @tcaba...</td>\n      <td>{'id': 1657054701106462720, 'text': 'RT @CAR_C...</td>\n      <td>{'id': 1657054701102284800, 'text': 'RT @ensus...</td>\n      <td>{'id': 1657054701097984000, 'text': '@alberrdd...</td>\n      <td>{'id': 1657054701077053443, 'text': '#EnVivo |...</td>\n      <td>{'id': 1657054701072838658, 'text': 'RT @purzi...</td>\n      <td>{'id': 1657054701064540164, 'text': 'RT @Media...</td>\n      <td>...</td>\n      <td>{'id': 1657054700175511552, 'text': 'RT @MetaM...</td>\n      <td>{'id': 1657054700175347712, 'text': '@justmeda...</td>\n      <td>{'id': 1657054700175278081, 'text': 'RT @alexa...</td>\n      <td>{'id': 1657054700171149317, 'text': 'RT @Quiro...</td>\n      <td>{'id': 1657054700116508672, 'text': 'RT @julie...</td>\n      <td>{'id': 1657054700108226564, 'text': 'RT @clave...</td>\n      <td>{'id': 1657054700099739648, 'text': '@picantic...</td>\n      <td>{'id': 1657054700074856448, 'text': 'RT @plane...</td>\n      <td>{'id': 1657054700057903104, 'text': '@ManuelaC...</td>\n      <td>None</td>\n    </tr>\n    <tr>\n      <th>2</th>\n      <td>{'id': 1657054717929746435, 'text': '@IdoloPas...</td>\n      <td>{'id': 1657054717908746243, 'text': 'Mi tía se...</td>\n      <td>{'id': 1657054717879435264, 'text': 'Pernod Ri...</td>\n      <td>{'id': 1657054717879414789, 'text': '@SeanLOra...</td>\n      <td>{'id': 1657054717879410689, 'text': '@AngeloLu...</td>\n      <td>{'id': 1657054717866913795, 'text': 'Fitness i...</td>\n      <td>{'id': 1657054717866852352, 'text': 'Kürtlerin...</td>\n      <td>{'id': 1657054717854220290, 'text': 'RT @ibsal...</td>\n      <td>{'id': 1657054717816741888, 'text': 'RT @wonwo...</td>\n      <td>{'id': 1657054717791412224, 'text': 'Eu sou tã...</td>\n      <td>...</td>\n      <td>{'id': 1657054716747034624, 'text': 'RT @sweet...</td>\n      <td>{'id': 1657054716730171398, 'text': 'RT @korea...</td>\n      <td>{'id': 1657054716705079299, 'text': '@Baghead_...</td>\n      <td>{'id': 1657054716705005568, 'text': '!!Thread!...</td>\n      <td>{'id': 1657054716700905474, 'text': 'namoro nã...</td>\n      <td>{'id': 1657054716688314368, 'text': 'RT @Sapal...</td>\n      <td>{'id': 1657054716688232448, 'text': 'RT @jilli...</td>\n      <td>{'id': 1657054716625289219, 'text': '@random_p...</td>\n      <td>{'id': 1657054716591849475, 'text': 'RT @Adria...</td>\n      <td>{'id': 1657054716583354369, 'text': 'RT @quefl...</td>\n    </tr>\n    <tr>\n      <th>3</th>\n      <td>{'id': 1657054726318608384, 'text': 'RT @tacch...</td>\n      <td>{'id': 1657054726318424066, 'text': '@ErlinJim...</td>\n      <td>{'id': 1657054726297382914, 'text': 'RT @Paulo...</td>\n      <td>{'id': 1657054726242947078, 'text': '@sevilayy...</td>\n      <td>{'id': 1657054726188326912, 'text': 'RT @alrc0...</td>\n      <td>{'id': 1657054726175825921, 'text': 'RT @Prefe...</td>\n      <td>{'id': 1657054726154854406, 'text': 'AOZE fash...</td>\n      <td>{'id': 1657054726125506560, 'text': 'RT @Vadod...</td>\n      <td>{'id': 1657054726096138241, 'text': 'RT @sferr...</td>\n      <td>{'id': 1657054726066675713, 'text': '@gonzalow...</td>\n      <td>...</td>\n      <td>{'id': 1657054725102239746, 'text': 'RT @Aroue...</td>\n      <td>{'id': 1657054725089419264, 'text': 'RT @youfa...</td>\n      <td>{'id': 1657054725089402881, 'text': '@_deucks ...</td>\n      <td>{'id': 1657054725085249536, 'text': 'RT @amand...</td>\n      <td>{'id': 1657054725081030661, 'text': 'RT @feyza...</td>\n      <td>{'id': 1657054725076836353, 'text': 'RT @seokm...</td>\n      <td>{'id': 1657054725072642055, 'text': '@e_l_g_c_...</td>\n      <td>None</td>\n      <td>None</td>\n      <td>None</td>\n    </tr>\n    <tr>\n      <th>4</th>\n      <td>{'id': 1657054734702788610, 'text': '@AugustFa...</td>\n      <td>{'id': 1657054734698663937, 'text': 'RT @antic...</td>\n      <td>{'id': 1657054734677581824, 'text': 'RT @Fabio...</td>\n      <td>{'id': 1657054734665039874, 'text': 'Eragny pa...</td>\n      <td>{'id': 1657054734665015296, 'text': 'RT @Ed_co...</td>\n      <td>{'id': 1657054734623072259, 'text': 'RT @LucyF...</td>\n      <td>{'id': 1657054734610575364, 'text': '@IswudKli...</td>\n      <td>{'id': 1657054734606319621, 'text': 'RT @nital...</td>\n      <td>{'id': 1657054734585409536, 'text': '@Buenoyqu...</td>\n      <td>{'id': 1657054734585397251, 'text': '@jtmryuji...</td>\n      <td>...</td>\n      <td>{'id': 1657054733368950790, 'text': 'RT @Danje...</td>\n      <td>{'id': 1657054733339856896, 'text': 'hll  t o ...</td>\n      <td>{'id': 1657054733335445507, 'text': '@cardosoe...</td>\n      <td>{'id': 1657054733310341124, 'text': '@ponteved...</td>\n      <td>{'id': 1657054733301948417, 'text': 'RT @Unive...</td>\n      <td>{'id': 1657054733243150338, 'text': 'RT @cuddl...</td>\n      <td>{'id': 1657054733239205889, 'text': '@Madelynd...</td>\n      <td>{'id': 1657054733234851840, 'text': 'RT @Mashw...</td>\n      <td>{'id': 1657054733222260737, 'text': 'RT @_Prov...</td>\n      <td>None</td>\n    </tr>\n  </tbody>\n</table>\n<p>5 rows × 100 columns</p>\n</div>"
     },
     "execution_count": 20,
     "metadata": {},
     "output_type": "execute_result"
    }
   ],
   "source": [
    "tweets_df = pd.read_json(\n",
    "    path_or_buf=file_name,\n",
    "    lines=True,\n",
    "    orient='records'\n",
    ")\n",
    "tweets_df.head()"
   ],
   "metadata": {
    "collapsed": false,
    "ExecuteTime": {
     "end_time": "2023-05-12T16:14:51.882624053Z",
     "start_time": "2023-05-12T16:14:51.798368020Z"
    }
   }
  },
  {
   "cell_type": "code",
   "execution_count": 21,
   "outputs": [
    {
     "data": {
      "text/plain": "(9, 100)"
     },
     "execution_count": 21,
     "metadata": {},
     "output_type": "execute_result"
    }
   ],
   "source": [
    "tweets_df.shape"
   ],
   "metadata": {
    "collapsed": false,
    "ExecuteTime": {
     "end_time": "2023-05-12T16:14:54.077788643Z",
     "start_time": "2023-05-12T16:14:54.071397685Z"
    }
   }
  },
  {
   "cell_type": "code",
   "execution_count": 10,
   "outputs": [
    {
     "data": {
      "text/plain": "                     id                                               text   \n4   1657010912585211912  RT @Mi_Ra_Cle001: The New C.E.O of Twitter 🤭 h...  \\\n7   1657010912564326402  Stand on business and put y’all foot on they n...   \n18  1657010912392531968  RT @CttieSyamsiah: When the words ＂I l t o yhd...   \n20  1657010912358993920  RT @NguhoJestonie: 20YEARS WITH SARAH G\\nPOPST...   \n21  1657010912354615298                 E reach o. https://t.co/09PRfhWsSL   \n\n   lang                created_at            author_id   \n4    en 2023-05-12 13:12:41+00:00  1611670655690280960  \\\n7    en 2023-05-12 13:12:41+00:00  1115923809188614144   \n18   en 2023-05-12 13:12:41+00:00           3237831013   \n20   en 2023-05-12 13:12:41+00:00  1275634172472602624   \n21   en 2023-05-12 13:12:41+00:00            199619648   \n\n                                  context_annotations  \n4   [{'domain': {'id': '47', 'name': 'Brand', 'des...  \n7   [{'domain': {'id': '3', 'name': 'TV Shows', 'd...  \n18  [{'domain': {'id': '46', 'name': 'Business Tax...  \n20                                                 []  \n21                                                 []  ",
      "text/html": "<div>\n<style scoped>\n    .dataframe tbody tr th:only-of-type {\n        vertical-align: middle;\n    }\n\n    .dataframe tbody tr th {\n        vertical-align: top;\n    }\n\n    .dataframe thead th {\n        text-align: right;\n    }\n</style>\n<table border=\"1\" class=\"dataframe\">\n  <thead>\n    <tr style=\"text-align: right;\">\n      <th></th>\n      <th>id</th>\n      <th>text</th>\n      <th>lang</th>\n      <th>created_at</th>\n      <th>author_id</th>\n      <th>context_annotations</th>\n    </tr>\n  </thead>\n  <tbody>\n    <tr>\n      <th>4</th>\n      <td>1657010912585211912</td>\n      <td>RT @Mi_Ra_Cle001: The New C.E.O of Twitter 🤭 h...</td>\n      <td>en</td>\n      <td>2023-05-12 13:12:41+00:00</td>\n      <td>1611670655690280960</td>\n      <td>[{'domain': {'id': '47', 'name': 'Brand', 'des...</td>\n    </tr>\n    <tr>\n      <th>7</th>\n      <td>1657010912564326402</td>\n      <td>Stand on business and put y’all foot on they n...</td>\n      <td>en</td>\n      <td>2023-05-12 13:12:41+00:00</td>\n      <td>1115923809188614144</td>\n      <td>[{'domain': {'id': '3', 'name': 'TV Shows', 'd...</td>\n    </tr>\n    <tr>\n      <th>18</th>\n      <td>1657010912392531968</td>\n      <td>RT @CttieSyamsiah: When the words ＂I l t o yhd...</td>\n      <td>en</td>\n      <td>2023-05-12 13:12:41+00:00</td>\n      <td>3237831013</td>\n      <td>[{'domain': {'id': '46', 'name': 'Business Tax...</td>\n    </tr>\n    <tr>\n      <th>20</th>\n      <td>1657010912358993920</td>\n      <td>RT @NguhoJestonie: 20YEARS WITH SARAH G\\nPOPST...</td>\n      <td>en</td>\n      <td>2023-05-12 13:12:41+00:00</td>\n      <td>1275634172472602624</td>\n      <td>[]</td>\n    </tr>\n    <tr>\n      <th>21</th>\n      <td>1657010912354615298</td>\n      <td>E reach o. https://t.co/09PRfhWsSL</td>\n      <td>en</td>\n      <td>2023-05-12 13:12:41+00:00</td>\n      <td>199619648</td>\n      <td>[]</td>\n    </tr>\n  </tbody>\n</table>\n</div>"
     },
     "execution_count": 10,
     "metadata": {},
     "output_type": "execute_result"
    }
   ],
   "source": [
    "mask = tweets_df.lang == \"en\"\n",
    "tweets_df[mask].head()"
   ],
   "metadata": {
    "collapsed": false,
    "ExecuteTime": {
     "end_time": "2023-05-12T16:06:23.304637747Z",
     "start_time": "2023-05-12T16:06:23.299882629Z"
    }
   }
  },
  {
   "cell_type": "code",
   "execution_count": 22,
   "outputs": [],
   "source": [
    "import json\n",
    "import re"
   ],
   "metadata": {
    "collapsed": false,
    "ExecuteTime": {
     "end_time": "2023-05-12T17:25:04.749297665Z",
     "start_time": "2023-05-12T17:25:04.707824749Z"
    }
   }
  },
  {
   "cell_type": "code",
   "execution_count": 41,
   "outputs": [
    {
     "name": "stderr",
     "output_type": "stream",
     "text": [
      "[nltk_data] Downloading package punkt to /home/godwin/nltk_data...\n",
      "[nltk_data]   Package punkt is already up-to-date!\n",
      "[nltk_data] Downloading package stopwords to /home/godwin/nltk_data...\n",
      "[nltk_data]   Package stopwords is already up-to-date!\n",
      "[nltk_data] Downloading package wordnet to /home/godwin/nltk_data...\n",
      "[nltk_data]   Package wordnet is already up-to-date!\n",
      "[nltk_data] Downloading package omw-1.4 to /home/godwin/nltk_data...\n",
      "[nltk_data]   Package omw-1.4 is already up-to-date!\n"
     ]
    }
   ],
   "source": [
    "from tmo.preprocessing import Text\n",
    "\n",
    "txt = Text()"
   ],
   "metadata": {
    "collapsed": false,
    "ExecuteTime": {
     "end_time": "2023-05-12T18:07:36.556900732Z",
     "start_time": "2023-05-12T18:07:34.360472433Z"
    }
   }
  },
  {
   "cell_type": "code",
   "execution_count": null,
   "outputs": [],
   "source": [],
   "metadata": {
    "collapsed": false
   }
  },
  {
   "cell_type": "code",
   "execution_count": 43,
   "outputs": [],
   "source": [
    "\n",
    "with open(file_name, \"r\") as file:\n",
    "    for line in file:\n",
    "        try:\n",
    "            tweets100 = json.loads(line)\n",
    "            for tweet in tweets100:\n",
    "                if tweet[\"lang\"] == \"en\":\n",
    "                    tweet_text = tweet[\"text\"]\n",
    "                    tweet_text = txt.process_document(tweet_text)\n",
    "                    with open('./moi.txt', \"a\") as f:\n",
    "                        f.write(tweet_text)\n",
    "                        f.write(\"\\n\")\n",
    "        except json.decoder.JSONDecodeError as e:\n",
    "            print(e)\n"
   ],
   "metadata": {
    "collapsed": false,
    "ExecuteTime": {
     "end_time": "2023-05-12T18:16:18.078149201Z",
     "start_time": "2023-05-12T18:16:18.034038027Z"
    }
   }
  },
  {
   "cell_type": "code",
   "execution_count": null,
   "outputs": [],
   "source": [],
   "metadata": {
    "collapsed": false
   }
  }
 ],
 "metadata": {
  "kernelspec": {
   "display_name": "Python 3",
   "language": "python",
   "name": "python3"
  },
  "language_info": {
   "codemirror_mode": {
    "name": "ipython",
    "version": 2
   },
   "file_extension": ".py",
   "mimetype": "text/x-python",
   "name": "python",
   "nbconvert_exporter": "python",
   "pygments_lexer": "ipython2",
   "version": "2.7.6"
  }
 },
 "nbformat": 4,
 "nbformat_minor": 0
}
